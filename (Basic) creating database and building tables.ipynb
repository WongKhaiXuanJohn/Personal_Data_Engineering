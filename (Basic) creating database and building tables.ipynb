{
 "cells": [
  {
   "attachments": {},
   "cell_type": "markdown",
   "metadata": {},
   "source": [
    "1. Import Library"
   ]
  },
  {
   "cell_type": "code",
   "execution_count": 3,
   "metadata": {},
   "outputs": [],
   "source": [
    "import psycopg2"
   ]
  },
  {
   "attachments": {},
   "cell_type": "markdown",
   "metadata": {},
   "source": [
    "2. Create Connection Database"
   ]
  },
  {
   "cell_type": "code",
   "execution_count": 9,
   "metadata": {},
   "outputs": [],
   "source": [
    "try: \n",
    "    conn = psycopg2.connect('host=localhost dbname=postgres user=user password=root')\n",
    "except psycopg2.Error as e:\n",
    "    print('Error: Could not make the connection to the Postgres database.')\n",
    "    print('e')"
   ]
  },
  {
   "attachments": {},
   "cell_type": "markdown",
   "metadata": {},
   "source": [
    "3. Use The Connection To Get A Cursor That Can Be Used To Execute Queries"
   ]
  },
  {
   "cell_type": "code",
   "execution_count": 10,
   "metadata": {},
   "outputs": [],
   "source": [
    "try:\n",
    "    cur = conn.cursor()\n",
    "except psycopg2.Error as e:\n",
    "    print('Error: Could not get cursor to the database.')\n",
    "    print('e')"
   ]
  },
  {
   "attachments": {},
   "cell_type": "markdown",
   "metadata": {},
   "source": [
    "4. Set Automatic Coomit To Be True So That Each Action Is Committed Without Having To Call Conn.commit() After Each Command"
   ]
  },
  {
   "cell_type": "code",
   "execution_count": 11,
   "metadata": {},
   "outputs": [],
   "source": [
    "conn.set_session(autocommit=True)"
   ]
  },
  {
   "attachments": {},
   "cell_type": "markdown",
   "metadata": {},
   "source": [
    "5. Create A Database To Do The Work In"
   ]
  },
  {
   "cell_type": "code",
   "execution_count": null,
   "metadata": {},
   "outputs": [],
   "source": [
    "try:\n",
    "    cur.execute('create database myfirstdb')\n",
    "except psycopg2.Error as e:\n",
    "    print('e')"
   ]
  },
  {
   "attachments": {},
   "cell_type": "markdown",
   "metadata": {},
   "source": [
    "6. Add The Database In The Connect Statement. Let's Close Our Connection To The Default Database, Reconnect To The Udacity Database And Get A New Cursor."
   ]
  },
  {
   "cell_type": "code",
   "execution_count": 14,
   "metadata": {},
   "outputs": [],
   "source": [
    "try:\n",
    "    conn.close()\n",
    "except psycopg2.Error as e:\n",
    "    print(e)\n",
    "\n",
    "try:\n",
    "    conn = psycopg2.connect('host=localhost dbname=myfirstdb user=user password=root')\n",
    "except psycopg2.Error as e:\n",
    "    print('Error: Could not make the connection to the Postgres database.')\n",
    "    print('e')\n",
    "\n",
    "try:\n",
    "    cur = conn.cursor()\n",
    "except psycopg2.Error as e:\n",
    "    print('Error: Could not get cursor to the database.')\n",
    "    print('e')\n",
    "\n",
    "conn.set_session(autocommit=True)"
   ]
  },
  {
   "attachments": {},
   "cell_type": "markdown",
   "metadata": {},
   "source": [
    "7. Create Table For Students Which Includes Below Columns\n",
    "- student_id\n",
    "- name\n",
    "- age\n",
    "- gender\n",
    "- subject \n",
    "- marks"
   ]
  },
  {
   "cell_type": "code",
   "execution_count": 15,
   "metadata": {},
   "outputs": [],
   "source": [
    "try:\n",
    "    cur.execute('CREATE TABLE IF NOT EXISTS students (\\\n",
    "                 student_id int,\\\n",
    "                 name varchar,\\\n",
    "                 age int,\\\n",
    "                 gender varchar,\\\n",
    "                 subject varchar,\\\n",
    "                 marks int);')\n",
    "except psycopg2.Error as e:\n",
    "    print('Error: Creating a new table')\n",
    "    print(e)"
   ]
  },
  {
   "attachments": {},
   "cell_type": "markdown",
   "metadata": {},
   "source": [
    "8. Insert The Following Two Rows Into The Table\n",
    "- First row: 1, Raj, 23, male, Python, 85\n",
    "- Second row: 2, Priya, 22, female, Python 86"
   ]
  },
  {
   "cell_type": "code",
   "execution_count": 21,
   "metadata": {},
   "outputs": [],
   "source": [
    "try:\n",
    "    cur.execute('INSERT INTO students (student_id, name, age, gender, subject, marks) \\\n",
    "                 VALUES (%s, %s, %s, %s, %s, %s)',\\\n",
    "                 (1, 'Raj', 23, 'male', 'Python', 85))\n",
    "except psycopg2.Error as e:\n",
    "    print('Error: Unable to insert the rows.')\n",
    "    print(e)\n",
    "\n",
    "try:\n",
    "    cur.execute('INSERT INTO students (student_id, name, age, gender, subject, marks) \\\n",
    "                 VALUES (%s, %s, %s, %s, %s, %s)',\\\n",
    "                 (2, 'Priya', 22, 'female', 'Python', 86))\n",
    "except psycopg2.Error as e:\n",
    "    print('Error: Unable to insert the rows.')\n",
    "    print(e)"
   ]
  },
  {
   "attachments": {},
   "cell_type": "markdown",
   "metadata": {},
   "source": [
    "9. Validate Your Data Was Inserted Into The Table"
   ]
  },
  {
   "cell_type": "code",
   "execution_count": 25,
   "metadata": {},
   "outputs": [
    {
     "name": "stdout",
     "output_type": "stream",
     "text": [
      "(1, 'Raj', 23, 'male', 'Python', 85)\n",
      "(2, 'Priya', 22, 'female', 'Python', 86)\n"
     ]
    }
   ],
   "source": [
    "try:\n",
    "    cur.execute('SELECT * FROM students;')\n",
    "except psycopg2.Error as e:\n",
    "    print('Error: Unable to retrieve the seleceted data.')\n",
    "    print(e)\n",
    "\n",
    "# Pull the first row from the particular data\n",
    "row = cur.fetchone()\n",
    "\n",
    "while row:\n",
    "    print(row)\n",
    "    row = cur.fetchone()"
   ]
  },
  {
   "attachments": {},
   "cell_type": "markdown",
   "metadata": {},
   "source": [
    "10. And Finally Close Your Cursor And Connection"
   ]
  },
  {
   "cell_type": "code",
   "execution_count": 26,
   "metadata": {},
   "outputs": [],
   "source": [
    "cur.close()\n",
    "conn.close()"
   ]
  }
 ],
 "metadata": {
  "kernelspec": {
   "display_name": "Virtual_Env",
   "language": "python",
   "name": "python3"
  },
  "language_info": {
   "codemirror_mode": {
    "name": "ipython",
    "version": 3
   },
   "file_extension": ".py",
   "mimetype": "text/x-python",
   "name": "python",
   "nbconvert_exporter": "python",
   "pygments_lexer": "ipython3",
   "version": "3.10.5"
  },
  "orig_nbformat": 4
 },
 "nbformat": 4,
 "nbformat_minor": 2
}
